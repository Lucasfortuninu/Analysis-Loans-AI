{
 "cells": [
  {
   "cell_type": "markdown",
   "id": "3b2d75ca",
   "metadata": {},
   "source": [
    "# <font color='red'>1. Eleccion del dataset y motivacion.</font>"
   ]
  },
  {
   "cell_type": "markdown",
   "id": "b0d22eb5",
   "metadata": {},
   "source": [
    "El problema que he elegido es determinar si una persona es adecuada para recibir un préstamo. Se basa en evaluar diversos atributos financieros y personales, como ingresos anuales, historial crediticio, cantidad solicitada, entre otros, para predecir si una persona es adecuada para recibir un préstamo y es probable que lo pague en su totalidad. Este problema es esencial tanto para las instituciones financieras como para las personas, ya que afecta directamente a la concesión responsable de préstamos y al acceso igualitario a oportunidades financieras. Utilizando técnicas de Aprendizaje Automatico, se busca crear un modelo que pueda hacer predicciones precisas basándose en datos históricos y características relevantes de los solicitantes.\n",
    "\n",
    "Algunos de los puntos que me han llevado a la eleccion de este dataset/problema son los siguientes:\n",
    "\n",
    "#### Importancia en el Sector Financiero:\n",
    "- **Gestión de riesgos:** La evaluación precisa de la elegibilidad para préstamos es esencial para las instituciones financieras. Determinar quién es más probable que devuelva un préstamo reduce el riesgo de impago y las pérdidas asociadas.\n",
    "- **Uso de tecnología:** La aplicación de Aprendizaje Automatico en la evaluación de creditos/prestamos permite un análisis más detallado y rápido de datos, mejorando la eficiencia y precisión en la toma de decisiones.\n",
    "\n",
    "#### Tecnología y Finanzas:\n",
    "- Este tema ofrece una oportunidad interesante para aprender y aplicar técnicas de Aprendizaje automatico en un contexto financiero. Es una buena manera de comprender cómo estas herramientas pueden ser útiles en la toma de decisiones en el mundo real.\n",
    "\n",
    "#### Objetividad:\n",
    "- Al utilizar algoritmos de Aprendizaje Automatico para evaluar la elegibilidad, existe la posibilidad de reducir el sesgo humano en la toma de decisiones financieras, asegurando una evaluación más objetiva y equitativa."
   ]
  },
  {
   "cell_type": "markdown",
   "id": "d4f54161",
   "metadata": {},
   "source": [
    "# <font color='red'>2. Explicacion del dataset.</font>"
   ]
  },
  {
   "cell_type": "markdown",
   "id": "2631fac4",
   "metadata": {},
   "source": [
    "Como he explicado en el punto anterior, el dataset consta de diversos atributos financieros y personales. Para poder abordar el problema, es importante entender bien cada uno de ellos y los valores que toman.\n",
    "\n",
    "1. **loan_id (ID del préstamo):** \n",
    "   - Variable numérica única asignada a cada solicitud de préstamo. Es un identificador único para cada préstamo.\n",
    "\n",
    "\n",
    "2. **no_of_dependents (Número de dependientes):**\n",
    "   - Variable numérica que indica la cantidad de dependientes financieros que tiene la persona que solicita el préstamo. Toma valores enteros. Los dependientes pueden ser miembros de la familia u otras personas cuya manutención está financiada por la persona que solicita el préstamo.\n",
    "\n",
    "\n",
    "3. **education (Educación):**\n",
    "   - Variable categórica que describe el nivel educativo alcanzado por la persona que solicita el préstamo. Puede ser 'Graduate' (graduado) o 'Not Graduate' (no graduado).\n",
    "\n",
    "\n",
    "4. **self_employed (Autónomo):**\n",
    "   - Variable categórica que indica si la persona que solicita el préstamo es autónoma o trabaja para una empresa. Puede ser 'Yes' (sí) o 'No' (no).\n",
    "\n",
    "\n",
    "5. **income_annum (Ingreso anual):**\n",
    "   - Variable numérica que representa el ingreso anual de la persona que solicita el préstamo. Es el total de ganancias que esa persona recibe en un año.\n",
    "\n",
    "\n",
    "6. **loan_amount (Cantidad del préstamo):**\n",
    "   - Variable numérica que indica la cantidad de dinero que la persona solicita como préstamo.\n",
    "\n",
    "\n",
    "7. **loan_term (Plazo del préstamo):**\n",
    "   - Variable numérica que indica la duración del préstamo solicitado, es decir, el tiempo que la persona tendrá para pagar el préstamo en meses.\n",
    "\n",
    "\n",
    "8. **cibil_score (Puntaje CIBIL):**\n",
    "   - Variable numérica que indica el puntaje que evalúa la confiabilidad financiera de la persona solicitante. A mayor puntaje, mejor evaluada esta la confaibilidad.\n",
    "\n",
    "\n",
    "9. **residential_assets_value (Valor de activos residenciales):**\n",
    "   - Variable numérica que representa el valor de los activos residenciales (como propiedades, casas, apartamentos, etc.) que la persona posee.\n",
    "\n",
    "\n",
    "10. **commercial_assets_value (Valor de activos comerciales):**\n",
    "    - Variable numérica que indica el valor de los activos comerciales (como locales comerciales, terrenos para negocios, etc.) que la persona posee.\n",
    "\n",
    "\n",
    "11. **luxury_assets_value (Valor de activos de lujo):**\n",
    "    - Variable numérica que describe el valor de los activos de lujo (como automóviles costosos, joyas, obras de arte, etc.) que  persona tiene.\n",
    "\n",
    "\n",
    "12. **bank_asset_value (Valor de activos bancarios):**\n",
    "    - Variable numérica que indica el valor de los activos bancarios de la persona que solicita el préstamo.\n",
    "\n",
    "\n",
    "13. **loan_status (Estado del préstamo):**\n",
    "    - Variable categórica que indica si el préstamo fue 'Approved' (aprobado) o 'Rejected' (rechazado). Este atributo sera la etiqueta, es decir, lo que el modelo debera predecir."
   ]
  },
  {
   "cell_type": "markdown",
   "id": "b700d78a",
   "metadata": {},
   "source": [
    "# <font color='red'>3. Visualizacion y tratamiento del dataset.</font>"
   ]
  },
  {
   "cell_type": "markdown",
   "id": "724e0c96",
   "metadata": {},
   "source": [
    "Para simplificar la creación de los modelos, voy a transformar los atributos que contienen valores basados en lenguaje en atributos numéricos, específicamente en valores binarios en este caso."
   ]
  },
  {
   "cell_type": "code",
   "execution_count": 1,
   "id": "be3ba309",
   "metadata": {},
   "outputs": [
    {
     "name": "stdout",
     "output_type": "stream",
     "text": [
      "   loan_id  no_of_dependents      education self_employed  income_annum  \\\n",
      "0        1                 2       Graduate            No       9600000   \n",
      "1        2                 0   Not Graduate           Yes       4100000   \n",
      "2        3                 3       Graduate            No       9100000   \n",
      "3        4                 3       Graduate            No       8200000   \n",
      "4        5                 5   Not Graduate           Yes       9800000   \n",
      "\n",
      "   loan_amount  loan_term  cibil_score  residential_assets_value  \\\n",
      "0     29900000         12          778                   2400000   \n",
      "1     12200000          8          417                   2700000   \n",
      "2     29700000         20          506                   7100000   \n",
      "3     30700000          8          467                  18200000   \n",
      "4     24200000         20          382                  12400000   \n",
      "\n",
      "   commercial_assets_value  luxury_assets_value  bank_asset_value loan_status  \n",
      "0                 17600000             22700000           8000000    Approved  \n",
      "1                  2200000              8800000           3300000    Rejected  \n",
      "2                  4500000             33300000          12800000    Rejected  \n",
      "3                  3300000             23300000           7900000    Rejected  \n",
      "4                  8200000             29400000           5000000    Rejected  \n"
     ]
    }
   ],
   "source": [
    "import numpy as np\n",
    "import pandas as pd\n",
    "\n",
    "# Cargo el dataset y observo los primeros ejemplos\n",
    "data = pd.read_csv('dataset/loan_approval_dataset.txt', delimiter=',')\n",
    "print(data.head())"
   ]
  },
  {
   "cell_type": "code",
   "execution_count": 2,
   "id": "f9f8b829",
   "metadata": {},
   "outputs": [
    {
     "name": "stdout",
     "output_type": "stream",
     "text": [
      "   loan_id  no_of_dependents  education  self_employed  income_annum  \\\n",
      "0        1                 2          1              0       9600000   \n",
      "1        2                 0          0              1       4100000   \n",
      "2        3                 3          1              0       9100000   \n",
      "3        4                 3          1              0       8200000   \n",
      "4        5                 5          0              1       9800000   \n",
      "\n",
      "   loan_amount  loan_term  cibil_score  residential_assets_value  \\\n",
      "0     29900000         12          778                   2400000   \n",
      "1     12200000          8          417                   2700000   \n",
      "2     29700000         20          506                   7100000   \n",
      "3     30700000          8          467                  18200000   \n",
      "4     24200000         20          382                  12400000   \n",
      "\n",
      "   commercial_assets_value  luxury_assets_value  bank_asset_value  loan_status  \n",
      "0                 17600000             22700000           8000000            1  \n",
      "1                  2200000              8800000           3300000            0  \n",
      "2                  4500000             33300000          12800000            0  \n",
      "3                  3300000             23300000           7900000            0  \n",
      "4                  8200000             29400000           5000000            0  \n"
     ]
    }
   ],
   "source": [
    "# Convierto las atributos linguisticos en numericos\n",
    "data['education'] = data['education'].map({' Graduate': 1, ' Not Graduate': 0})\n",
    "data['self_employed'] = data['self_employed'].map({' Yes': 1, ' No': 0})\n",
    "data['loan_status'] = data['loan_status'].map({' Approved': 1, ' Rejected': 0})\n",
    "print(data.head())"
   ]
  },
  {
   "cell_type": "code",
   "execution_count": 3,
   "id": "d9862602",
   "metadata": {},
   "outputs": [],
   "source": [
    "# Creo las variables que almacenan las entradas y etiquetas\n",
    "X = data.iloc[:, 1:-1]  # Quito tambien la columna id porque no me interesa\n",
    "y = data.iloc[:, -1]"
   ]
  },
  {
   "cell_type": "markdown",
   "id": "9bff220a",
   "metadata": {},
   "source": [
    "Para conocer mejor los datos calculo sus estadisticas."
   ]
  },
  {
   "cell_type": "code",
   "execution_count": 4,
   "id": "e350f298",
   "metadata": {},
   "outputs": [
    {
     "name": "stdout",
     "output_type": "stream",
     "text": [
      "Estadísticas Descriptivas:\n"
     ]
    },
    {
     "data": {
      "text/html": [
       "<div>\n",
       "<style scoped>\n",
       "    .dataframe tbody tr th:only-of-type {\n",
       "        vertical-align: middle;\n",
       "    }\n",
       "\n",
       "    .dataframe tbody tr th {\n",
       "        vertical-align: top;\n",
       "    }\n",
       "\n",
       "    .dataframe thead th {\n",
       "        text-align: right;\n",
       "    }\n",
       "</style>\n",
       "<table border=\"1\" class=\"dataframe\">\n",
       "  <thead>\n",
       "    <tr style=\"text-align: right;\">\n",
       "      <th></th>\n",
       "      <th>Media</th>\n",
       "      <th>Mediana</th>\n",
       "      <th>Desviación Estándar</th>\n",
       "      <th>Máximo</th>\n",
       "      <th>Mínimo</th>\n",
       "    </tr>\n",
       "  </thead>\n",
       "  <tbody>\n",
       "    <tr>\n",
       "      <th>no_of_dependents</th>\n",
       "      <td>2.498712e+00</td>\n",
       "      <td>3.0</td>\n",
       "      <td>1.695910e+00</td>\n",
       "      <td>5</td>\n",
       "      <td>0</td>\n",
       "    </tr>\n",
       "    <tr>\n",
       "      <th>education</th>\n",
       "      <td>5.022253e-01</td>\n",
       "      <td>1.0</td>\n",
       "      <td>5.000536e-01</td>\n",
       "      <td>1</td>\n",
       "      <td>0</td>\n",
       "    </tr>\n",
       "    <tr>\n",
       "      <th>self_employed</th>\n",
       "      <td>5.036308e-01</td>\n",
       "      <td>1.0</td>\n",
       "      <td>5.000454e-01</td>\n",
       "      <td>1</td>\n",
       "      <td>0</td>\n",
       "    </tr>\n",
       "    <tr>\n",
       "      <th>income_annum</th>\n",
       "      <td>5.059124e+06</td>\n",
       "      <td>5100000.0</td>\n",
       "      <td>2.806840e+06</td>\n",
       "      <td>9900000</td>\n",
       "      <td>200000</td>\n",
       "    </tr>\n",
       "    <tr>\n",
       "      <th>loan_amount</th>\n",
       "      <td>1.513345e+07</td>\n",
       "      <td>14500000.0</td>\n",
       "      <td>9.043363e+06</td>\n",
       "      <td>39500000</td>\n",
       "      <td>300000</td>\n",
       "    </tr>\n",
       "    <tr>\n",
       "      <th>loan_term</th>\n",
       "      <td>1.090045e+01</td>\n",
       "      <td>10.0</td>\n",
       "      <td>5.709187e+00</td>\n",
       "      <td>20</td>\n",
       "      <td>2</td>\n",
       "    </tr>\n",
       "    <tr>\n",
       "      <th>cibil_score</th>\n",
       "      <td>5.999361e+02</td>\n",
       "      <td>600.0</td>\n",
       "      <td>1.724304e+02</td>\n",
       "      <td>900</td>\n",
       "      <td>300</td>\n",
       "    </tr>\n",
       "    <tr>\n",
       "      <th>residential_assets_value</th>\n",
       "      <td>7.472617e+06</td>\n",
       "      <td>5600000.0</td>\n",
       "      <td>6.503637e+06</td>\n",
       "      <td>29100000</td>\n",
       "      <td>-100000</td>\n",
       "    </tr>\n",
       "    <tr>\n",
       "      <th>commercial_assets_value</th>\n",
       "      <td>4.973155e+06</td>\n",
       "      <td>3700000.0</td>\n",
       "      <td>4.388966e+06</td>\n",
       "      <td>19400000</td>\n",
       "      <td>0</td>\n",
       "    </tr>\n",
       "    <tr>\n",
       "      <th>luxury_assets_value</th>\n",
       "      <td>1.512631e+07</td>\n",
       "      <td>14600000.0</td>\n",
       "      <td>9.103754e+06</td>\n",
       "      <td>39200000</td>\n",
       "      <td>300000</td>\n",
       "    </tr>\n",
       "    <tr>\n",
       "      <th>bank_asset_value</th>\n",
       "      <td>4.976692e+06</td>\n",
       "      <td>4600000.0</td>\n",
       "      <td>3.250185e+06</td>\n",
       "      <td>14700000</td>\n",
       "      <td>0</td>\n",
       "    </tr>\n",
       "  </tbody>\n",
       "</table>\n",
       "</div>"
      ],
      "text/plain": [
       "                                 Media     Mediana  Desviación Estándar  \\\n",
       "no_of_dependents          2.498712e+00         3.0         1.695910e+00   \n",
       "education                 5.022253e-01         1.0         5.000536e-01   \n",
       "self_employed             5.036308e-01         1.0         5.000454e-01   \n",
       "income_annum              5.059124e+06   5100000.0         2.806840e+06   \n",
       "loan_amount               1.513345e+07  14500000.0         9.043363e+06   \n",
       "loan_term                 1.090045e+01        10.0         5.709187e+00   \n",
       "cibil_score               5.999361e+02       600.0         1.724304e+02   \n",
       "residential_assets_value  7.472617e+06   5600000.0         6.503637e+06   \n",
       "commercial_assets_value   4.973155e+06   3700000.0         4.388966e+06   \n",
       "luxury_assets_value       1.512631e+07  14600000.0         9.103754e+06   \n",
       "bank_asset_value          4.976692e+06   4600000.0         3.250185e+06   \n",
       "\n",
       "                            Máximo  Mínimo  \n",
       "no_of_dependents                 5       0  \n",
       "education                        1       0  \n",
       "self_employed                    1       0  \n",
       "income_annum               9900000  200000  \n",
       "loan_amount               39500000  300000  \n",
       "loan_term                       20       2  \n",
       "cibil_score                    900     300  \n",
       "residential_assets_value  29100000 -100000  \n",
       "commercial_assets_value   19400000       0  \n",
       "luxury_assets_value       39200000  300000  \n",
       "bank_asset_value          14700000       0  "
      ]
     },
     "metadata": {},
     "output_type": "display_data"
    },
    {
     "name": "stdout",
     "output_type": "stream",
     "text": [
      "\n",
      "Balance de Clases:\n"
     ]
    },
    {
     "data": {
      "text/html": [
       "<div>\n",
       "<style scoped>\n",
       "    .dataframe tbody tr th:only-of-type {\n",
       "        vertical-align: middle;\n",
       "    }\n",
       "\n",
       "    .dataframe tbody tr th {\n",
       "        vertical-align: top;\n",
       "    }\n",
       "\n",
       "    .dataframe thead th {\n",
       "        text-align: right;\n",
       "    }\n",
       "</style>\n",
       "<table border=\"1\" class=\"dataframe\">\n",
       "  <thead>\n",
       "    <tr style=\"text-align: right;\">\n",
       "      <th></th>\n",
       "      <th>Cantidad</th>\n",
       "    </tr>\n",
       "  </thead>\n",
       "  <tbody>\n",
       "    <tr>\n",
       "      <th>1</th>\n",
       "      <td>2656</td>\n",
       "    </tr>\n",
       "    <tr>\n",
       "      <th>0</th>\n",
       "      <td>1613</td>\n",
       "    </tr>\n",
       "  </tbody>\n",
       "</table>\n",
       "</div>"
      ],
      "text/plain": [
       "   Cantidad\n",
       "1      2656\n",
       "0      1613"
      ]
     },
     "metadata": {},
     "output_type": "display_data"
    }
   ],
   "source": [
    "from IPython.display import display\n",
    "\n",
    "# Cálculo de estadísticas descriptivas\n",
    "stats = pd.DataFrame()\n",
    "stats['Media'] = X.mean()\n",
    "stats['Mediana'] = X.median()\n",
    "stats['Desviación Estándar'] = X.std()\n",
    "stats['Máximo'] = X.max()\n",
    "stats['Mínimo'] = X.min()\n",
    "\n",
    "# Balance de clases\n",
    "class_balance = y.value_counts().to_frame().rename(columns={'loan_status': 'Cantidad'})\n",
    "\n",
    "# Mostrar la información en tablas\n",
    "print(\"Estadísticas Descriptivas:\")\n",
    "display(stats)\n",
    "\n",
    "print(\"\\nBalance de Clases:\")\n",
    "display(class_balance)"
   ]
  },
  {
   "cell_type": "markdown",
   "id": "8c60f548",
   "metadata": {},
   "source": [
    "# <font color='red'>4. Division del dataset.</font>"
   ]
  },
  {
   "cell_type": "markdown",
   "id": "1f9aeb3f",
   "metadata": {},
   "source": [
    "Ahora voy preparar los datos para el análisis y modelado, dividiéndolos en conjuntos de entrenamiento, prueba, realizando ajustes para el manejo del sesgo y normalizando las características para su mejor procesamiento por los distintos modelos.\n",
    "Los conjuntos en los que voy a dividir el dataset tienen esta funcion:\n",
    "\n",
    "- **Conjunto de Entrenamiento y Validacion:** Se utiliza para entrenar el modelo, ajustando sus parámetros y permitiéndole aprender de los datos. El Conjunto de validacion nos permitira obtener los mejores hiperparametros para cada modelo.\n",
    "  \n",
    "- **Conjunto de Prueba:** Sirve para evaluar qué tan bien el modelo generaliza a datos nuevos y no vistos.\n",
    "\n",
    "Mencionar que no es necesario separar manualmente el conjunto de entrenamiento del de validación, ya que GridSearchCV realiza esta división automáticamente.\n",
    "Por otro lado, indicar que la normalización es muy importante para asegurar que los atributos se mantengan en un rango similar de valores. Esto evita que aquellos atributos que se mueven en rangos más grandes no dominen el proceso de aprendizaje del modelo, permitiendo que cada atributo contribuya de manera equitativa al análisis, independientemente de su escala inicial."
   ]
  },
  {
   "cell_type": "code",
   "execution_count": 5,
   "id": "35178b37",
   "metadata": {},
   "outputs": [],
   "source": [
    "from sklearn.model_selection import train_test_split\n",
    "from sklearn.preprocessing import StandardScaler\n",
    "\n",
    "# Divido los datos en conjunto de entrenamiento y conjunto de prueba (80% entrenamiento, 20% prueba)\n",
    "X_train, X_test, y_train, y_test = train_test_split(X, y, test_size=0.2, random_state=42)\n",
    "\n",
    "# Inicializo el escalador\n",
    "scaler = StandardScaler()\n",
    "\n",
    "# Estandarizo los datos de entrenamiento y prueba\n",
    "X_train_scaled = scaler.fit_transform(X_train)\n",
    "X_test_scaled = scaler.transform(X_test)\n",
    "\n",
    "# Agrego la columna de unos para el sesgo a los conjuntos de entrenamiento y prueba\n",
    "X_train_scaled = np.hstack((np.ones((X_train_scaled.shape[0], 1)), X_train_scaled))\n",
    "X_test_scaled = np.hstack((np.ones((X_test_scaled.shape[0], 1)), X_test_scaled))"
   ]
  },
  {
   "cell_type": "markdown",
   "id": "56f0a35e",
   "metadata": {},
   "source": [
    "# <font color='red'>5. Resolucion con diferentes modelos.</font>"
   ]
  },
  {
   "cell_type": "markdown",
   "id": "28f58493",
   "metadata": {},
   "source": [
    "Ahora implemento cada modelo buscando los mejores hiperparametros.\n",
    "\n",
    "Los modelo que he descartado han sido:\n",
    "\n",
    "**Regresión lineal:** La regresión lineal se utiliza para predecir valores continuos en función de variables independientes. Por ello no es apto para problemas de clasificación.\n",
    "\n",
    "**Clustering:** El clustering se utiliza para agrupar datos en diferentes grupos basados en la similitud de características, pero no realiza predicciones sobre etiquetas específicas o clases ya que es un algoritmo de aprendizaje no supervisado."
   ]
  },
  {
   "cell_type": "markdown",
   "id": "4b65cc60",
   "metadata": {},
   "source": [
    "   ## <font color='blue'>Modelo 1: Regresion logistica.</font>"
   ]
  },
  {
   "cell_type": "code",
   "execution_count": 17,
   "id": "3ee64406",
   "metadata": {},
   "outputs": [
    {
     "name": "stdout",
     "output_type": "stream",
     "text": [
      "Mejores parámetros encontrados:  {'logistic__C': 0.09770099572992257}\n",
      "Mejor modelo: Pipeline(steps=[('logistic',\n",
      "                 LogisticRegression(C=0.09770099572992257,\n",
      "                                    solver='newton-cg'))])\n",
      "Accuracy en train: 0.9188872620790629\n",
      "Accuracy en test: 0.9098360655737705\n"
     ]
    }
   ],
   "source": [
    "from sklearn.linear_model import LogisticRegression\n",
    "from sklearn.metrics import accuracy_score\n",
    "from sklearn.model_selection import GridSearchCV\n",
    "from sklearn.pipeline import Pipeline\n",
    "\n",
    "# Defino el pipeline con el modelo\n",
    "pipeline = Pipeline([\n",
    "    ('logistic', LogisticRegression(penalty='l2', solver='newton-cg'))\n",
    "])\n",
    "\n",
    "# Defino los parámetros que quiero probar\n",
    "c = np.logspace(-4, 4, num=100)\n",
    "param_grid = {\n",
    "    'logistic__C': c \n",
    "}\n",
    "\n",
    "# Configuro la búsqueda de hiperparámetros utilizando GridSearchCV con validacion cruzada de 5 pliegues con el objetivo de \n",
    "# encontrar aquellos hiperparametros que mayor rendimiento den.\n",
    "grid_search = GridSearchCV(estimator=pipeline, param_grid=param_grid, scoring='accuracy', cv=5)\n",
    "\n",
    "# Entreno el modelo con la búsqueda de hiperparámetros en los datos de entrenamiento\n",
    "grid_search.fit(X_train_scaled, y_train)\n",
    "\n",
    "# Obtengo el mejor modelo encontrado por GridSearchCV\n",
    "mejor_Modelo_Regresion = grid_search.best_estimator_\n",
    "\n",
    "# Predecir y calcular el número de aciertos en el conjunto de entrenamiento para el mejor modelo encontrado\n",
    "y_pred_train = mejor_Modelo_Regresion.predict(X_train_scaled)\n",
    "train_accuracy = accuracy_score(y_train, y_pred_train)\n",
    "\n",
    "# Predecir y calcular el número de aciertos en el conjunto de prueba para el mejor modelo encontrado\n",
    "y_pred_test = mejor_Modelo_Regresion.predict(X_test_scaled)\n",
    "test_accuracy = accuracy_score(y_test, y_pred_test)\n",
    "\n",
    "# Imprimo los resultados\n",
    "print(\"Mejores parámetros encontrados: \", grid_search.best_params_)\n",
    "print(\"Mejor modelo:\", mejor_Modelo_Regresion)\n",
    "print(\"Accuracy en train:\", train_accuracy)\n",
    "print(\"Accuracy en test:\", test_accuracy)"
   ]
  },
  {
   "cell_type": "markdown",
   "id": "4f8d669b",
   "metadata": {},
   "source": [
    "   ## <font color='blue'>Modelo 2: Regresion logistica con caracteristicas polinomicas.</font>"
   ]
  },
  {
   "cell_type": "code",
   "execution_count": 33,
   "id": "6025b878",
   "metadata": {},
   "outputs": [
    {
     "name": "stdout",
     "output_type": "stream",
     "text": [
      "Mejores parámetros encontrados:  {'logistic__C': 100, 'poly_features__degree': 2}\n",
      "Mejor modelo: Pipeline(steps=[('poly_features', PolynomialFeatures()),\n",
      "                ('logistic', LogisticRegression(C=100, solver='newton-cg'))])\n",
      "Accuracy en train: 0.9636896046852123\n",
      "Accuracy en test: 0.9437939110070258\n"
     ]
    }
   ],
   "source": [
    "from sklearn.preprocessing import PolynomialFeatures\n",
    "\n",
    "# Creo el pipeline\n",
    "pipeline = Pipeline([\n",
    "    ('poly_features', PolynomialFeatures()),\n",
    "     ('logistic', LogisticRegression(penalty='l2', solver='newton-cg'))\n",
    "])\n",
    "\n",
    "# Defino los parámetros que quiero probar\n",
    "param_grid = {\n",
    "    'poly_features__degree': [1, 2, 3, 4]  # Diferentes grados de polinomios a probar\n",
    "    ,'logistic__C': [0.001, 0.01, 0.1, 1, 10, 100]  # Probando diferentes valores de C\n",
    "}\n",
    "\n",
    "# Configuro la búsqueda de hiperparámetros utilizando GridSearchCV\n",
    "grid_search = GridSearchCV(estimator=pipeline, param_grid=param_grid, scoring='accuracy', cv=5)\n",
    "\n",
    "# Entreno el modelo con la búsqueda de hiperparámetros en los datos de entrenamiento\n",
    "grid_search.fit(X_train_scaled, y_train)\n",
    "\n",
    "# Obtengo el mejor modelo encontrado por GridSearchCV\n",
    "mejor_Modelo_Polinomico = grid_search.best_estimator_\n",
    "\n",
    "# Predecir y calcular el número de aciertos en el conjunto de entrenamiento \n",
    "y_pred_train = mejor_Modelo_Polinomico.predict(X_train_scaled)\n",
    "train_accuracy = accuracy_score(y_train, y_pred_train)\n",
    "\n",
    "# Predecir y calcular el número de aciertos en el conjunto de prueba \n",
    "y_pred_test = mejor_Modelo_Polinomico.predict(X_test_scaled)\n",
    "test_accuracy = accuracy_score(y_test, y_pred_test)\n",
    "\n",
    "# Imprimo los resultados\n",
    "print(\"Mejores parámetros encontrados: \", grid_search.best_params_)\n",
    "print(\"Mejor modelo:\", mejor_Modelo_Polinomico)\n",
    "print(\"Accuracy en train:\", train_accuracy)\n",
    "print(\"Accuracy en test:\", test_accuracy)"
   ]
  },
  {
   "cell_type": "markdown",
   "id": "1c6b599f",
   "metadata": {},
   "source": [
    "   ## <font color='blue'>Modelo 3: Naive bayes.</font>"
   ]
  },
  {
   "cell_type": "code",
   "execution_count": 8,
   "id": "2a31d735",
   "metadata": {},
   "outputs": [
    {
     "name": "stdout",
     "output_type": "stream",
     "text": [
      "Accuracy en train: 0.935285505124451\n",
      "Accuracy en test: 0.936768149882904\n"
     ]
    }
   ],
   "source": [
    "from sklearn.naive_bayes import GaussianNB\n",
    "\n",
    "# Inicializo el modelo de Naive Bayes\n",
    "naive_bayes = GaussianNB()\n",
    "\n",
    "# Entreno el modelo de Naive Bayes en los datos de entrenamiento\n",
    "naive_bayes.fit(X_train_scaled, y_train)\n",
    "\n",
    "# Predecir y calcular el número de aciertos en el conjunto de entrenamiento \n",
    "y_pred_train = naive_bayes.predict(X_train_scaled)\n",
    "train_accuracy = accuracy_score(y_train, y_pred_train)\n",
    "\n",
    "# Predecir y calcular el número de aciertos en el conjunto de prueba \n",
    "y_pred_test = naive_bayes.predict(X_test_scaled)\n",
    "test_accuracy = accuracy_score(y_test, y_pred_test)\n",
    "\n",
    "# Imprimo los resultados\n",
    "print(\"Accuracy en train:\", train_accuracy)\n",
    "print(\"Accuracy en test:\", test_accuracy)"
   ]
  },
  {
   "cell_type": "markdown",
   "id": "64953045",
   "metadata": {},
   "source": [
    "   ## <font color='blue'>Modelo 4: Redes neuronales.</font>"
   ]
  },
  {
   "cell_type": "code",
   "execution_count": 36,
   "id": "ddb3758f",
   "metadata": {},
   "outputs": [
    {
     "name": "stdout",
     "output_type": "stream",
     "text": [
      "Mejores parámetros encontrados:  {'alpha': 0.0001, 'hidden_layer_sizes': (50, 50)}\n",
      "Mejor modelo: MLPClassifier(activation='logistic', hidden_layer_sizes=(50, 50),\n",
      "              learning_rate='adaptive', max_iter=2000, random_state=42,\n",
      "              solver='lbfgs')\n",
      "Accuracy en train: 1.0\n",
      "Accuracy en test: 0.968384074941452\n"
     ]
    }
   ],
   "source": [
    "from sklearn.neural_network import MLPClassifier\n",
    "\n",
    "# Defino los parámetros que quiero probar\n",
    "param_grid = {\n",
    "    'hidden_layer_sizes': [(100,), (50, 50), (50, 100, 50)],\n",
    "    #'hidden_layer_sizes': [(2,), (5, 5), (5, 5, 5)],  # Diferentes arquitecturas de capas ocultas\n",
    "    'alpha': [0.0001, 0.001, 0.01]  # Parámetro de regularización\n",
    "}\n",
    "\n",
    "# Inicializo el modelo de Red Neuronal\n",
    "red_Neuronal = MLPClassifier(max_iter=2000, activation='logistic', solver='lbfgs', learning_rate='adaptive', random_state=42)\n",
    "\n",
    "# Configuro la búsqueda de hiperparámetros utilizando GridSearchCV\n",
    "grid_search = GridSearchCV(estimator=red_Neuronal, param_grid=param_grid, scoring='accuracy', cv=5)\n",
    "\n",
    "# Entreno el modelo con la búsqueda de hiperparámetros en los datos de entrenamiento\n",
    "grid_search.fit(X_train_scaled, y_train)\n",
    "\n",
    "# Obtengo el mejor modelo encontrado por GridSearchCV\n",
    "mejor_Modelo_Neuronal = grid_search.best_estimator_\n",
    "\n",
    "# Predecir y calcular el número de aciertos en el conjunto de entrenamiento \n",
    "y_pred_train = mejor_Modelo_Neuronal.predict(X_train_scaled)\n",
    "train_accuracy = accuracy_score(y_train, y_pred_train)\n",
    "\n",
    "# Predecir y calcular el número de aciertos en el conjunto de prueba \n",
    "y_pred_test = mejor_Modelo_Neuronal.predict(X_test_scaled)\n",
    "test_accuracy = accuracy_score(y_test, y_pred_test)\n",
    "\n",
    "# Imprimo los resultados\n",
    "print(\"Mejores parámetros encontrados: \", grid_search.best_params_)\n",
    "print(\"Mejor modelo:\", mejor_Modelo_Neuronal)\n",
    "print(\"Accuracy en train:\", train_accuracy)\n",
    "print(\"Accuracy en test:\", test_accuracy)\n"
   ]
  },
  {
   "cell_type": "markdown",
   "id": "99c80b29",
   "metadata": {},
   "source": [
    "   ## <font color='blue'>Modelo 5: Ensembles basados en variación de datos (Decision tree).</font>"
   ]
  },
  {
   "cell_type": "code",
   "execution_count": 159,
   "id": "b63ac762",
   "metadata": {},
   "outputs": [
    {
     "name": "stdout",
     "output_type": "stream",
     "text": [
      "Mejor profundidad encontrada:  {'max_depth': 15}\n",
      "Mejor modelo: DecisionTreeClassifier(criterion='entropy', max_depth=15, random_state=42)\n",
      "Accuracy en train: 0.995900439238653\n",
      "Accuracy en test: 0.9847775175644028\n"
     ]
    }
   ],
   "source": [
    "from sklearn.tree import DecisionTreeClassifier\n",
    "\n",
    "# Defino el rango de valores para la profundidad del árbol\n",
    "param_grid_decision_tree = {\n",
    "    'max_depth': [None, 5, 10, 15, 20, 30]  # Ajusta estos valores según tu necesidad\n",
    "}\n",
    "\n",
    "# Creo el clasificador de árbol de decisiones\n",
    "decision_tree = DecisionTreeClassifier(criterion='entropy', random_state=42)\n",
    "\n",
    "# Configuro la búsqueda de hiperparámetros utilizando GridSearchCV\n",
    "grid_search_decision_tree = GridSearchCV(estimator=decision_tree, param_grid=param_grid_decision_tree, cv=5, scoring='accuracy')\n",
    "\n",
    "# Entreno el modelo con la búsqueda de hiperparámetros en los datos de entrenamiento\n",
    "grid_search_decision_tree.fit(X_train_scaled, y_train)\n",
    "\n",
    "# Obtengo el mejor modelo encontrado por GridSearchCV\n",
    "mejor_modelo_Tree = grid_search_decision_tree.best_estimator_\n",
    "\n",
    "# Predecir y calcular el número de aciertos en el conjunto de entrenamiento \n",
    "y_pred_train = mejor_modelo_Tree.predict(X_train_scaled)\n",
    "train_accuracy = accuracy_score(y_train, y_pred_train)\n",
    "\n",
    "# Predecir y calcular el número de aciertos en el conjunto de prueba \n",
    "y_pred_test = mejor_modelo_Tree.predict(X_test_scaled)\n",
    "test_accuracy = accuracy_score(y_test, y_pred_test)\n",
    "\n",
    "print(\"Mejor profundidad encontrada: \", grid_search_decision_tree.best_params_)\n",
    "print(\"Mejor modelo:\", mejor_modelo_Tree)\n",
    "print(\"Accuracy en train:\", train_accuracy)\n",
    "print(\"Accuracy en test:\", test_accuracy)"
   ]
  },
  {
   "cell_type": "markdown",
   "id": "22df6ead",
   "metadata": {},
   "source": [
    " ## <font color='blue'>Modelo 6: Ensembles basados en variación de datos (Bagging).</font>"
   ]
  },
  {
   "cell_type": "code",
   "execution_count": 152,
   "id": "35e84142",
   "metadata": {},
   "outputs": [
    {
     "name": "stdout",
     "output_type": "stream",
     "text": [
      "Mejores parámetros encontrados:  {'n_estimators': 50}\n",
      "Mejor modelo: BaggingClassifier(base_estimator=DecisionTreeClassifier(criterion='entropy'),\n",
      "                  n_estimators=50, random_state=42)\n",
      "Accuracy en train: 1.0\n",
      "Accuracy en test: 0.9847775175644028\n"
     ]
    }
   ],
   "source": [
    "from sklearn.ensemble import BaggingClassifier\n",
    "\n",
    "# Defino el rango de valores para n_estimators\n",
    "param_grid = {\n",
    "    'n_estimators': [10, 50, 100, 150, 200, 250, 300, 350, 400]\n",
    "}\n",
    "\n",
    "# Creo el clasificador Bagging\n",
    "bagging = BaggingClassifier(base_estimator=DecisionTreeClassifier(criterion='entropy'), random_state=42)\n",
    "\n",
    "# Configuro la búsqueda de hiperparámetros \n",
    "grid_search_bagging = GridSearchCV(estimator=bagging, param_grid=param_grid, cv=5, scoring='accuracy')\n",
    "\n",
    "# Entreno el modelo con la búsqueda de hiperparámetros en los datos de entrenamiento\n",
    "grid_search_bagging.fit(X_train_scaled, y_train)\n",
    "\n",
    "# Obtengo el mejor modelo encontrado por GridSearchCV\n",
    "mejor_Modelo_Bagging = grid_search_bagging.best_estimator_\n",
    "\n",
    "# Predecir y calcular el número de aciertos en el conjunto de entrenamiento \n",
    "y_pred_train = mejor_Modelo_Bagging.predict(X_train_scaled)\n",
    "train_accuracy = accuracy_score(y_train, y_pred_train)\n",
    "\n",
    "# Predecir y calcular el número de aciertos en el conjunto de prueba \n",
    "y_pred_test = mejor_Modelo_Bagging.predict(X_test_scaled)\n",
    "test_accuracy = accuracy_score(y_test, y_pred_test)\n",
    "\n",
    "print(\"Mejores parámetros encontrados: \", grid_search_bagging.best_params_)\n",
    "print(\"Mejor modelo:\", mejor_Modelo_Bagging)\n",
    "print(\"Accuracy en train:\", train_accuracy)\n",
    "print(\"Accuracy en test:\", test_accuracy)"
   ]
  },
  {
   "cell_type": "markdown",
   "id": "84a5227b",
   "metadata": {},
   "source": [
    "   ## <font color='blue'>Modelo 7: Ensembles basados en variación de datos (Boosting: Adaboost).</font>"
   ]
  },
  {
   "cell_type": "code",
   "execution_count": 141,
   "id": "66a31fb8",
   "metadata": {},
   "outputs": [
    {
     "name": "stdout",
     "output_type": "stream",
     "text": [
      "Mejores parámetros encontrados:  {'n_estimators': 10}\n",
      "Mejor modelo: AdaBoostClassifier(base_estimator=DecisionTreeClassifier(criterion='entropy'),\n",
      "                   n_estimators=10, random_state=42)\n",
      "Accuracy en train: 1.0\n",
      "Accuracy en test: 0.9812646370023419\n"
     ]
    }
   ],
   "source": [
    "from sklearn.ensemble import AdaBoostClassifier\n",
    "\n",
    "# Defino el rango de valores para n_estimators \n",
    "param_grid_adaboost = {\n",
    "    'n_estimators': [10, 50, 100, 150, 200, 250, 300, 350, 400]#NO ENTIENDO PORQUE NO CAMBIA\n",
    "}\n",
    "\n",
    "# Creo el clasificador AdaBoost\n",
    "adaboost = AdaBoostClassifier(base_estimator=DecisionTreeClassifier(criterion='entropy'), random_state=42)\n",
    "\n",
    "# Configuro la búsqueda de hiperparámetros utilizando GridSearchCV\n",
    "grid_search_adaboost = GridSearchCV(estimator=adaboost, param_grid=param_grid_adaboost, cv=5, scoring='accuracy')\n",
    "\n",
    "# Entreno el modelo con la búsqueda de hiperparámetros en los datos de entrenamiento\n",
    "grid_search_adaboost.fit(X_train_scaled, y_train)\n",
    "\n",
    "# Obtengo el mejor modelo encontrado por GridSearchCV\n",
    "mejor_Modelo_Adaboost = grid_search_adaboost.best_estimator_\n",
    "\n",
    "# Predecir y calcular el número de aciertos en el conjunto de entrenamiento \n",
    "y_pred_train = mejor_Modelo_Adaboost.predict(X_train_scaled)\n",
    "train_accuracy = accuracy_score(y_train, y_pred_train)\n",
    "\n",
    "# Predecir y calcular el número de aciertos en el conjunto de prueba\n",
    "y_pred_test = mejor_Modelo_Adaboost.predict(X_test_scaled)\n",
    "test_accuracy = accuracy_score(y_test, y_pred_test)\n",
    "\n",
    "print(\"Mejores parámetros encontrados: \", grid_search_adaboost.best_params_)\n",
    "print(\"Mejor modelo:\", mejor_Modelo_Adaboost)\n",
    "print(\"Accuracy en train:\", train_accuracy)\n",
    "print(\"Accuracy en test:\", test_accuracy)"
   ]
  },
  {
   "cell_type": "markdown",
   "id": "9f47b177",
   "metadata": {},
   "source": [
    "   ## <font color='blue'>Modelo 8: Ensembles basados en variación de datos (Random forest).</font>"
   ]
  },
  {
   "cell_type": "code",
   "execution_count": 57,
   "id": "5b6fa917",
   "metadata": {},
   "outputs": [
    {
     "name": "stdout",
     "output_type": "stream",
     "text": [
      "Mejores parámetros encontrados:  {'n_estimators': 250}\n",
      "Mejor modelo: RandomForestClassifier(criterion='entropy', n_estimators=250, random_state=42)\n",
      "Accuracy en train: 1.0\n",
      "Accuracy en test: 0.9800936768149883\n"
     ]
    }
   ],
   "source": [
    "from sklearn.ensemble import RandomForestClassifier\n",
    "\n",
    "# Defino el rango de valores para n_estimators\n",
    "param_grid_rf = {\n",
    "    'n_estimators': [10, 50, 100, 150, 200, 250, 300, 350, 400]\n",
    "}\n",
    "\n",
    "# Creo el clasificador Random Forest\n",
    "rf_clf = RandomForestClassifier(criterion='entropy', random_state=42)\n",
    "\n",
    "# Configuro la búsqueda de hiperparámetros utilizando GridSearchCV\n",
    "grid_search_rf = GridSearchCV(estimator=rf_clf, param_grid=param_grid_rf, cv=5, scoring='accuracy')\n",
    "\n",
    "# Entreno el modelo con la búsqueda de hiperparámetros en los datos de entrenamiento\n",
    "grid_search_rf.fit(X_train_scaled, y_train)\n",
    "\n",
    "# Obtengo el mejor modelo encontrado por GridSearchCV\n",
    "mejor_Modelo_Forest = grid_search_rf.best_estimator_\n",
    "\n",
    "# Predecir y calcular el número de aciertos en el conjunto de entrenamiento \n",
    "y_pred_train = mejor_Modelo_Forest.predict(X_train_scaled)\n",
    "train_accuracy = accuracy_score(y_train, y_pred_train)\n",
    "\n",
    "# Predecir y calcular el número de aciertos en el conjunto de prueba \n",
    "y_pred_test = mejor_Modelo_Forest.predict(X_test_scaled)\n",
    "test_accuracy = accuracy_score(y_test, y_pred_test)\n",
    "\n",
    "print(\"Mejores parámetros encontrados: \", grid_search_rf.best_params_)\n",
    "print(\"Mejor modelo:\", mejor_Modelo_Forest)\n",
    "print(\"Accuracy en train:\", train_accuracy)\n",
    "print(\"Accuracy en test:\", test_accuracy)"
   ]
  },
  {
   "cell_type": "markdown",
   "id": "42203d33",
   "metadata": {},
   "source": [
    "   ## <font color='blue'>Modelo 9: Ensembles basados en descomposicion (OVA: One vs All).</font>"
   ]
  },
  {
   "cell_type": "code",
   "execution_count": 68,
   "id": "8348c779",
   "metadata": {},
   "outputs": [
    {
     "name": "stdout",
     "output_type": "stream",
     "text": [
      "Accuracy en train: 0.9584187408491948\n",
      "Accuracy en test: 0.9238875878220141\n"
     ]
    }
   ],
   "source": [
    "from sklearn.multiclass import OneVsRestClassifier\n",
    "from sklearn.svm import SVC\n",
    "\n",
    "# Llamo al constructor de OVA utilizando SVM como clasificador base\n",
    "clasificadorBase = SVC()\n",
    "OVA = OneVsRestClassifier(estimator=clasificadorBase)\n",
    "\n",
    "# Entreno el modelo OVA\n",
    "OVA.fit(X_train_scaled,y_train)\n",
    "\n",
    "# Predecir y calcular el número de aciertos en el conjunto de entrenamiento \n",
    "y_pred_train = OVA.predict(X_train_scaled)\n",
    "train_accuracy = accuracy_score(y_train, y_pred_train)\n",
    "\n",
    "# Predecir y calcular el número de aciertos en el conjunto de prueba \n",
    "y_pred_test = OVA.predict(X_test_scaled)\n",
    "test_accuracy = accuracy_score(y_test, y_pred_test)\n",
    "\n",
    "print(\"Accuracy en train:\", train_accuracy)\n",
    "print(\"Accuracy en test:\", test_accuracy)"
   ]
  },
  {
   "cell_type": "markdown",
   "id": "daf7bbb3",
   "metadata": {},
   "source": [
    "   ## <font color='blue'>Modelo 10: Ensembles basados en descomposicion (OVO: One vs One).</font>"
   ]
  },
  {
   "cell_type": "code",
   "execution_count": 69,
   "id": "a27f2c13",
   "metadata": {},
   "outputs": [
    {
     "name": "stdout",
     "output_type": "stream",
     "text": [
      "Accuracy en train: 0.9584187408491948\n",
      "Accuracy en test: 0.9238875878220141\n"
     ]
    }
   ],
   "source": [
    "from sklearn.multiclass import OneVsOneClassifier\n",
    "\n",
    "# Llamo al constructor de OVO utilizando SVM como clasificador base\n",
    "clasificadorBase = SVC()\n",
    "OVO = OneVsOneClassifier(estimator=clasificadorBase)\n",
    "\n",
    "# Entreno el modelo OVO\n",
    "OVO.fit(X_train_scaled,y_train)\n",
    "\n",
    "# Predecir y calcular el número de aciertos en el conjunto de entrenamiento \n",
    "y_pred_train = OVO.predict(X_train_scaled)\n",
    "train_accuracy = accuracy_score(y_train, y_pred_train)\n",
    "\n",
    "# Predecir y calcular el número de aciertos en el conjunto de prueba \n",
    "y_pred_test = OVO.predict(X_test_scaled)\n",
    "test_accuracy = accuracy_score(y_test, y_pred_test)\n",
    "\n",
    "print(\"Accuracy en train:\", train_accuracy)\n",
    "print(\"Accuracy en test:\", test_accuracy)"
   ]
  },
  {
   "cell_type": "markdown",
   "id": "0d9e2a9d",
   "metadata": {},
   "source": [
    "# <font color='red'>6. Comparacion de los modelos y eleccion del modelo mas adecuado.</font>"
   ]
  },
  {
   "cell_type": "code",
   "execution_count": 149,
   "id": "0ede55bc",
   "metadata": {},
   "outputs": [
    {
     "data": {
      "text/plain": [
       "<Figure size 1000x600 with 0 Axes>"
      ]
     },
     "metadata": {},
     "output_type": "display_data"
    },
    {
     "data": {
      "image/png": "[encoded data removed]",
      "text/plain": [
       "<Figure size 640x480 with 1 Axes>"
      ]
     },
     "metadata": {},
     "output_type": "display_data"
    }
   ],
   "source": [
    "import matplotlib.pyplot as plt\n",
    "\n",
    "# Rendimiento de los modelos\n",
    "modelos = ['Regresion logistica', 'Regresion logistica polinomica', 'Naive Bayes', 'Redes neuronales',\n",
    "           'Arboles de decision', 'Bagging', 'Boosting', 'Random forest', 'OVA', 'OVO']\n",
    "rendimiento_entrenamiento = [0.9188872620790629, 0.9636896046852123, 0.935285505124451, 1.0, 0.995900439238653, 1.0, 1.0, 1.0, 0.9584187408491948, 0.9584187408491948]\n",
    "rendimiento_prueba = [0.9098360655737705, 0.9437939110070258, 0.936768149882904, 0.968384074941452, 0.9847775175644028, 0.9847775175644028, 0.9812646370023419,  0.9800936768149883, 0.9238875878220141, 0.9238875878220141]\n",
    "\n",
    "# Creo un DataFrame con los datos\n",
    "data = pd.DataFrame({'Modelos': modelos, 'Rendimiento_Entrenamiento': rendimiento_entrenamiento, 'Rendimiento_Prueba': rendimiento_prueba})\n",
    "\n",
    "# Gráfico de barras con rendimiento de entrenamiento y prueba para cada modelo\n",
    "plt.figure(figsize=(10, 6))\n",
    "data.plot(x='Modelos', y=['Rendimiento_Entrenamiento', 'Rendimiento_Prueba'], kind='bar')\n",
    "plt.title('Rendimiento de Modelos en Conjuntos de Entrenamiento y Prueba')\n",
    "plt.xlabel('Modelos')\n",
    "plt.ylabel('Rendimiento')\n",
    "plt.legend(loc='best')\n",
    "plt.tight_layout()\n",
    "\n",
    "# Muestro el gráfico\n",
    "plt.show()"
   ]
  },
  {
   "cell_type": "markdown",
   "id": "4bad890f",
   "metadata": {},
   "source": [
    "Como se observa en la gráfica, la mayoría de los modelos dan un gran rendimiento y generalización. Sin embargo, el modelo que mejor ha clasificado ha sido el modelo de Árboles de decisión con profundidad 15. El rendimiento de este modelo ha sido del 99,6% para el conjunto de entrenamiento del 98,47% para el de test. \n",
    "Aunque hay modelos, que han obtenido un 100% de aciertos en la clasificación del conjunto de entrenamiento, el modelo elegido ha sido este porque es el que mejor generalización ha obtenido, es decir, el que mejor ha clasificado los ejemplos de test, ejemplos no utilizados en el entrenamiento."
   ]
  },
  {
   "cell_type": "markdown",
   "id": "b5612e52",
   "metadata": {},
   "source": [
    "# <font color='red'>7. Explicabilidad del modelo.</font>"
   ]
  },
  {
   "cell_type": "code",
   "execution_count": 162,
   "id": "87d33052",
   "metadata": {
    "scrolled": true
   },
   "outputs": [
    {
     "data": {
      "image/png": "[encoded data removed]",
      "text/plain": [
       "<Figure size 1000x600 with 1 Axes>"
      ]
     },
     "metadata": {},
     "output_type": "display_data"
    }
   ],
   "source": [
    "# Obtengo la importancia de las características del mejor modelo\n",
    "importancias_caracteristicas = mejor_modelo_decision_tree.feature_importances_\n",
    "\n",
    "# Obtengo los nombres de las características\n",
    "nombres_caracteristicas = data.columns.tolist() \n",
    "nombres_caracteristicas = nombres_caracteristicas[1:-1] # Quito el indice y la etiqueta\n",
    "nombres_caracteristicas = ['bias'] + nombres_caracteristicas\n",
    "\n",
    "# Creo un gráfico de barras para visualizar la importancia de las características\n",
    "plt.figure(figsize=(10, 6))\n",
    "barras = plt.barh(range(len(importancias_caracteristicas)), importancias_caracteristicas, align='center')\n",
    "plt.yticks(range(len(importancias_caracteristicas)), nombres_caracteristicas)\n",
    "plt.xlabel('Importancia')\n",
    "plt.title('Importancia de las características en el modelo: Árboles de decision')\n",
    "\n",
    "# Muestro los valores para cada caractersitica\n",
    "for i, v in enumerate(importancias_caracteristicas):\n",
    "    plt.text(v, i, f'{v:.4f}', va='center', color='black', fontweight='bold')\n",
    "\n",
    "plt.savefig('nombre_imagen.png', bbox_inches='tight')\n",
    "plt.show()\n"
   ]
  },
  {
   "cell_type": "markdown",
   "id": "42cb2cea",
   "metadata": {},
   "source": [
    "Al evaluar el modelo de Árboles de decision, se observa que algunas características tienen mayor peso en la predicción del estado del préstamo. La puntuación CIBIL (`cibil_score`), por ejemplo, es la más significativa, representando aproximadamente el 76.51% de importancia en la toma de decisiones del modelo. Además, la duración del préstamo (`loan_term`) también tiene relevancia, aportando alrededor del 12.57% en la predicción.\n",
    "\n",
    "Mientras características como ingresos anuales (`income_annum`), monto del préstamo (`loan_amount`), y el valor de los activos residenciales (`residential_assets_value`) tienen un peso moderado, otras como `loan_id`, `no_of_dependents`, `education`, `self_employed`, `commercial_assets_value`, `luxury_assets_value`, y `bank_asset_value` tienen una contribución mínima o nula en la predicción del estado del préstamo.\n",
    "\n",
    "Estos resultados sugieren que (`cibil_score`) y (`loan_term`) son aspectos fundamentales en la decisión sobre la aprobación de préstamos. Priorizar estas características puede ser clave para mejorar estrategias de aprobación de prestamos."
   ]
  },
  {
   "cell_type": "markdown",
   "id": "25a004f5",
   "metadata": {},
   "source": [
    "# <font color='red'>8. Conclusion.</font>"
   ]
  },
  {
   "cell_type": "markdown",
   "id": "46c11bc9",
   "metadata": {},
   "source": [
    "Tras analizar la evaluación de préstamos mediante Aprendizaje Automático, se han explorado múltiples modelos para predecir la aprobación o rechazo de préstamos. Entre ellos, resalta el modelo de Árboles de Decisión, mostrando una notable capacidad de generalización al alcanzar un rendimiento del 98,47% en el conjunto de test.\n",
    "\n",
    "No obstante, se identifica una oportunidad para mejorar aún más este resultado. Se observa un desequilibrio en el balance de clases, ya que el número de ejemplos de préstamos concedidos casi duplica al de préstamos no concedidos. Para optimizar la efectividad del modelo, sería recomendable abordar esta diferencia en la cantidad de ejemplos de cada clase. Esto podría favorecer una mejora en la precisión del modelo, mejorando su capacidad predictiva."
   ]
  }
 ],
 "metadata": {
  "kernelspec": {
   "display_name": "Python 3 (ipykernel)",
   "language": "python",
   "name": "python3"
  },
  "language_info": {
   "codemirror_mode": {
    "name": "ipython",
    "version": 3
   },
   "file_extension": ".py",
   "mimetype": "text/x-python",
   "name": "python",
   "nbconvert_exporter": "python",
   "pygments_lexer": "ipython3",
   "version": "3.11.0"
  }
 },
 "nbformat": 4,
 "nbformat_minor": 5
}
